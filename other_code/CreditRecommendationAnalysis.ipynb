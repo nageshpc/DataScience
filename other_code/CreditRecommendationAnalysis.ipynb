{
 "cells": [
  {
   "cell_type": "markdown",
   "metadata": {},
   "source": [
    "# Objective : Decide if we should switch to the new recommendation engine. \n",
    "## Strategy:\n",
    "We can consider the recommendation systems as a customer-detector (a binary classifier).\n",
    "\n",
    "In practice, a potential customer has to have two essential characteristics to transform to a future customer.\n",
    "First, she has to be interested in the product and secondly she has to be eligible for the product. \n",
    "\n",
    "It is not clear if the recommendation engine aims to detect both the aspects. For the purpose of this exercise, \n",
    "I will proceed to evaluate the recommendation engine on just the first of these two related concepts:<br>\n",
    "1) Interest-detector: Ability to detect an interested customer. <br>\n",
    "2) Eligibility-detector: Ability to detect an interested and eligible customer.\n",
    "\n",
    "For now, let me focus only on Interest-detector.\n",
    "First, lets characterize the workflows in the system."
   ]
  },
  {
   "cell_type": "code",
   "execution_count": 20,
   "metadata": {
    "scrolled": true
   },
   "outputs": [
    {
     "name": "stdout",
     "output_type": "stream",
     "text": [
      "Examining the data:\n",
      "Workflows are : \n",
      " Recommender-1.0,Recommender-1.0,Recommender-1.0,Customer Opted-Out\n",
      "Recommender-1.0,Recommender-1.0,Recommender-1.0,Recommender-1.0,Customer Applied,Application Declined\n",
      "Recommender-1.0,Customer Applied,Application Approved,Customer Signed-Up\n",
      "Recommender-1.0,Customer Applied,Application Declined\n",
      "Recommender-1.0,Recommender-1.0,Recommender-1.0,Recommender-1.0,Customer Applied,Application Approved,Customer Cancelled Application\n",
      "Recommender-1.0,Customer Applied,Application Approved,Customer Cancelled Application\n",
      "Recommender-2.0,Customer Applied,Application Declined\n",
      "Recommender-1.0,Recommender-1.0,Customer Applied,Application Approved,Customer Cancelled Application\n",
      "Recommender-1.0,Recommender-1.0,Recommender-1.0,Customer Applied,Application Approved,Customer Cancelled Application\n",
      "Recommender-1.0,Customer Opted-Out\n",
      "Recommender-2.0,Customer Applied,Application Approved,Customer Cancelled Application\n",
      "Recommender-2.0,Recommender-2.0,Recommender-2.0,Customer Applied,Application Approved,Customer Cancelled Application\n",
      "Recommender-2.0,Recommender-2.0,Customer Applied,Application Approved,Customer Signed-Up\n",
      "Recommender-2.0,Customer Opted-Out\n",
      "Recommender-2.0,Recommender-2.0,Recommender-2.0,Customer Opted-Out\n",
      "Recommender-1.0,Recommender-1.0,Recommender-1.0,Recommender-1.0,Recommender-1.0,Recommender-1.0,Customer Applied,Application Declined\n",
      "Recommender-1.0,Recommender-1.0,Recommender-1.0,Recommender-1.0,Recommender-1.0,Recommender-1.0,Recommender-1.0,Customer Applied,Application Approved,Customer Signed-Up\n",
      "Recommender-1.0,Recommender-1.0,Recommender-1.0,Recommender-1.0,Customer Opted-Out\n",
      "Customer Applied,Application Declined\n",
      "Recommender-2.0,Recommender-2.0,Recommender-2.0,Recommender-2.0,Customer Opted-Out\n",
      "Customer Applied,Application Approved,Customer Cancelled Application\n",
      "Recommender-1.0,Recommender-1.0,Customer Applied,Application Approved,Customer Signed-Up\n",
      "Recommender-1.0,Recommender-1.0,Recommender-1.0,Recommender-1.0,Recommender-1.0,Customer Applied,Application Approved,Customer Signed-Up\n",
      "Recommender-2.0,Recommender-2.0,Recommender-2.0,Customer Applied,Application Declined\n",
      "Recommender-2.0,Recommender-2.0,Recommender-2.0,Recommender-2.0,Customer Applied,Application Approved,Customer Cancelled Application\n",
      "Recommender-1.0,Recommender-1.0,Customer Applied,Application Declined\n",
      "Recommender-1.0,Recommender-1.0,Recommender-1.0,Recommender-1.0,Recommender-1.0,Customer Applied,Application Declined\n",
      "Recommender-2.0,Recommender-2.0,Customer Applied,Application Approved,Customer Cancelled Application\n",
      "Recommender-1.0,Recommender-1.0,Recommender-1.0,Recommender-1.0,Recommender-1.0,Customer Opted-Out\n",
      "Recommender-2.0,Customer Applied,Application Approved,Customer Signed-Up\n",
      "Recommender-1.0,Recommender-1.0,Recommender-1.0,Recommender-1.0,Customer Applied,Application Approved,Customer Signed-Up\n",
      "Recommender-2.0,Recommender-2.0,Customer Applied,Application Declined\n",
      "Recommender-1.0,Recommender-1.0,Recommender-1.0,Recommender-1.0,Recommender-1.0,Recommender-1.0,Customer Opted-Out\n",
      "Recommender-2.0,Recommender-2.0,Recommender-2.0,Recommender-2.0,Customer Applied,Application Approved,Customer Signed-Up\n",
      "Recommender-1.0,Recommender-1.0,Recommender-1.0,Customer Applied,Application Approved,Customer Signed-Up\n",
      "Recommender-1.0,Recommender-1.0,Customer Opted-Out\n",
      "Recommender-2.0,Recommender-2.0,Customer Opted-Out\n",
      "Recommender-1.0,Recommender-1.0,Recommender-1.0,Customer Applied,Application Declined\n",
      "Recommender-2.0,Recommender-2.0,Recommender-2.0,Customer Applied,Application Approved,Customer Signed-Up\n",
      "Customer Applied,Application Approved,Customer Signed-Up\n"
     ]
    }
   ],
   "source": [
    "import pandas as pd\n",
    "print(\"Examining the data:\")\n",
    "rec_one= pd.read_csv(\"out_recommender01.csv\")\n",
    "rec_two= pd.read_csv(\"out_recommender02.csv\")\n",
    "all_data= pd.concat( [rec_one, rec_two], ignore_index=True)\n",
    "#I have left out preliminary-analysis of data structure \n",
    "#print (set( rec_one.action.tolist()))\n",
    "#print (set( rec_two.action.tolist()))\n",
    "#print (rec_one.columns)\n",
    "#print (rec_two.columns)\n",
    "\n",
    "\n",
    "#Lets see the possible workflows that any visitor to the site goes through:\n",
    "# workflow is the sequence of actions in a journey \n",
    "workflow = [ \",\".join(group.action.tolist()) for (key,group) in all_data.groupby(\"journey_id\")]\n",
    "print(\"Workflows are : \\n\",  \"\\n\".join(set(workflow) ))"
   ]
  },
  {
   "cell_type": "markdown",
   "metadata": {},
   "source": [
    "## Workflows, Success and Failure Criterion\n",
    "From the above workflow-analysis, I understand that a customer may or may not \n",
    "be chosen by the recommender. From the customers' perspective, she has the following possible workflows:\n",
    "*) 'Customer Opted-Out' <br>\n",
    "*) 'Customer Applied,Application Declined' <br>\n",
    "*) 'Customer Applied,Application Approved,Customer Cancelled Application' <br>\n",
    "*) 'Customer Applied,Application Approved,Customer Signed-Up'  <br>\n",
    "\n",
    "For my initial analysis, where I focus solely on interest-detection capability of the recommender,\n",
    "I consider : <br>\n",
    "1) True Positive  : If a customer was recommended and she applied.<br>\n",
    "2) False Positive : If a customer was recommended and she did not apply. <br> \n",
    "3) False Negative : A customer who was not recommended the product but she still applied. <br>\n",
    "       <b>They should be attributed to recommender-01 if she applied before  01 July  2017. Else, it should be attributed to both engines in a 80:20 ratio. </b> <br>\n",
    "4) True Negative  : N/A  or Undetectable -- from the present logs, it appears that the data is missing about\n",
    "    the customers who were neither recommended nor applied for the product.\n",
    "\n",
    "### Characterizing Recommender-Performance\n",
    "\n",
    "Based on the above data, we can measure the following metrics to characterize the recommendation engines:<br>\n",
    "1) Precision (P) = TP / (TP + FP) <br>\n",
    "2) Recall or Sensitivity (R) = TP /(TP + FN) <br>\n",
    "3) Balanced F1 score  = 2*P*R / (P+R) <br>\n",
    "\n",
    "#### Simplifying Assumptions\n",
    "These metrics are <b>journey-specific</b> not actor-specific.\n",
    "In other words, I am ignoring the condition where a same customer goes through several recommendation-journeys.\n",
    "It is very much possible that repeated-recommendations have a higher conversion rate.\n",
    "For example, a recommendation might be more effective when seen for the 3rd time. \n",
    "For this first cut analysis, I am ignoring such aspects and making some simplistic assumptions \n",
    "that journey are i.i.d .  I have also not done a <b> rigorous error-analysis </b>. For example,\n",
    "is it possible that a customer applies, opts-out and repeats this process many times.\n",
    "How should such a case be handled ? These are some aspects requiring more analysis."
   ]
  },
  {
   "cell_type": "code",
   "execution_count": 25,
   "metadata": {},
   "outputs": [
    {
     "name": "stdout",
     "output_type": "stream",
     "text": [
      "Journey level metrics of Precision, Recall and F1 for \n",
      "\t\tRecommender-01 :  0.37 0.35 0.36\n",
      "\t\tRecommender-02 :  0.39 0.36 0.37\n",
      "Number of journeys or trials for the two recommenders : 30239.0 2196.0\n"
     ]
    }
   ],
   "source": [
    "tp1, tp2, fp1, fp2, fn1, fn2 = 0.0, 0.0, 0.0, 0.0, 0.0, 0.0\n",
    "###\n",
    "for journey_id, group in all_data.groupby(\"journey_id\") :\n",
    "    action_lst = group.action.tolist()\n",
    "    if 'Recommender-1.0' in  action_lst:\n",
    "        if 'Customer Applied' in action_lst:\n",
    "            tp1 += 1\n",
    "        else:\n",
    "            assert('Customer Opted-Out' in action_lst )\n",
    "            fp1 += 1\n",
    "    elif 'Recommender-2.0' in group.action.tolist() :\n",
    "        if 'Customer Applied' in action_lst:\n",
    "            tp2 += 1\n",
    "        else:\n",
    "            assert('Customer Opted-Out' in action_lst )\n",
    "            fp2 += 1\n",
    "    else: # customer came in without being recommended to \n",
    "        assert('Customer Applied' in action_lst) #has to be FN, there is no TN-detection capability\n",
    "        if group._time.min() <  '2017-07-01' : # only recommender-01 was in play\n",
    "            fn1 += 1.0\n",
    "        else: # it could be from either of the recommenders with a .8:.2 probability \n",
    "            fn1 += 0.8\n",
    "            fn2 += 0.2\n",
    "########\n",
    "#print( \"Journey level metrics :\", tp1, tp2, fp1, fp2, fn1, fn2)\n",
    "p1 = tp1 / (tp1+fp1)\n",
    "p2 = tp2 / (tp2+fp2)\n",
    "r1 = tp1 / (tp1+fn1)\n",
    "r2 = tp2 / (tp2+fn2)\n",
    "f1 = 2*p1*r1/(p1+r1)\n",
    "f2 = 2*p2*r2/(p2+r2)\n",
    "print(\"Journey level metrics of Precision, Recall and F1 for \")\n",
    "print(\"\\t\\tRecommender-01 : \", \"{0:.2f}\".format(p1), \"{0:.2f}\".format(r1), \"{0:.2f}\".format(f1) )\n",
    "print(\"\\t\\tRecommender-02 : \", \"{0:.2f}\".format(p2), \"{0:.2f}\".format(r2), \"{0:.2f}\".format(f2) )\n",
    "trials1 = tp1 + fp1 \n",
    "trials2 = tp2 + fp2 \n",
    "print(\"Number of journeys or trials for the two recommenders :\" , trials1, trials2)"
   ]
  },
  {
   "cell_type": "markdown",
   "metadata": {},
   "source": [
    "# Comparing the two Recommenders.\n",
    "A final question is to compare which of the two detectors is better ? \n",
    "The newer version certainly seems better on Precision, Recall and F-score.\n",
    "The sample size too is substantial (~2196 journeys with Recommender-02).\n",
    "\n",
    "Still it is instructive to check for statistical significance, before \n",
    "rejecting the null hypothesis H0: The two engines are equally effective. \n",
    "Further, I will choose Precision as the measure of effectiveness instead of Recall or F1,\n",
    "as it seems appropriate for this task setting and is also deterministic, unlike FN that needs estimation.\n",
    "\n",
    "We cannot use standard tests such as McNemar's test as the trials are done on different customers. \n",
    "For independent pairs (i.e different customers corresponding to different recommenders), I choose Unpaired-t tests.\n",
    "\n",
    "Precision is analogous to population mean. I.e it is the proportion of truly interested customers, \n",
    "    amongst those for whom we recommended the product. \n",
    "    \n",
    "I.e p == tp/(tp+fp) can be seen as the probability/proportion of success of (tp+fp) bernoulli-trials. \n",
    "Therefore, we can compare the precisions, by comparing the population-proportions for the two engines.\n",
    "\n",
    "The null hypothesis: H0: Both are equally precise. i.e (P1-P2)==0  <br> \n",
    "The alternate hypothesis H1 : Their precisions are different. ie P1 != P2 <br>\n",
    "The two binomial distributions are  given by n1, p1 and n2, p2: <br>\n",
    "\n"
   ]
  },
  {
   "cell_type": "code",
   "execution_count": 28,
   "metadata": {},
   "outputs": [
    {
     "name": "stdout",
     "output_type": "stream",
     "text": [
      "-1.872948221730775\n"
     ]
    }
   ],
   "source": [
    "n1 = 30239.0 \n",
    "p1 = 0.37 \n",
    "n2 = 2196.0  \n",
    "p2 = 0.39\n",
    "import numpy as np\n",
    "p= (n1*p1 + n2*p2) / (n1+n2) #avg prob of success\n",
    "z =  (p1-p2)/ np.sqrt( p*(1-p)*(1/n1 + 1/n2) ) #test-statistic  \n",
    "print (z)"
   ]
  },
  {
   "cell_type": "markdown",
   "metadata": {},
   "source": [
    "The above statistic happens to be > Z (alpha/2) == Z (0.025) == -1.96 for 95 % confidence. \n",
    "Which means it falls in the 95 % confidence interval and hence we cannot reject the null hypothesis.\n",
    "In other words, there is less statistical significance or support to claim that the newer version is more precise. <br>\n",
    "\n",
    "<b> A switch to newer version cannot be recommended. </b> "
   ]
  },
  {
   "cell_type": "code",
   "execution_count": null,
   "metadata": {},
   "outputs": [],
   "source": []
  }
 ],
 "metadata": {
  "kernelspec": {
   "display_name": "Python 3",
   "language": "python",
   "name": "python3"
  },
  "language_info": {
   "codemirror_mode": {
    "name": "ipython",
    "version": 3
   },
   "file_extension": ".py",
   "mimetype": "text/x-python",
   "name": "python",
   "nbconvert_exporter": "python",
   "pygments_lexer": "ipython3",
   "version": "3.6.5"
  }
 },
 "nbformat": 4,
 "nbformat_minor": 2
}
